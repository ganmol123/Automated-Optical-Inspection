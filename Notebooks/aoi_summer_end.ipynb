{
 "cells": [
  {
   "cell_type": "markdown",
   "metadata": {
    "colab_type": "text",
    "id": "q7hp6EL0rDf4"
   },
   "source": [
    "# Step 1: upload the folder AUAOI to your google drive"
   ]
  },
  {
   "cell_type": "code",
   "execution_count": 0,
   "metadata": {
    "colab": {},
    "colab_type": "code",
    "id": "uEHrJ5lVQMcB"
   },
   "outputs": [],
   "source": [
    "from google.colab import drive\n",
    "drive.mount(\"/content/drive\", force_remount=True)"
   ]
  },
  {
   "cell_type": "code",
   "execution_count": 0,
   "metadata": {
    "colab": {},
    "colab_type": "code",
    "id": "9ApdziUlE2EY"
   },
   "outputs": [],
   "source": [
    "PATH = \"drive/My Drive/AUAOI\"\n",
    "!ls \"drive/My Drive/AUAOI\""
   ]
  },
  {
   "cell_type": "markdown",
   "metadata": {},
   "source": [
    "# Step 2: Using Sikit-learn and Keras"
   ]
  },
  {
   "cell_type": "code",
   "execution_count": 0,
   "metadata": {
    "colab": {},
    "colab_type": "code",
    "id": "wSE-KUByPPaE"
   },
   "outputs": [],
   "source": [
    "import numpy as np\n",
    "import os\n",
    "import time\n",
    "\n",
    "from keras.preprocessing import image\n",
    "from keras.applications.imagenet_utils import preprocess_input\n",
    "\n",
    "from keras.utils import np_utils\n",
    "from sklearn.utils import shuffle\n",
    "from sklearn.model_selection import train_test_split\n",
    "\n",
    "from keras.applications.vgg16 import VGG16\n",
    "from keras.layers import Dense, Activation, Flatten\n",
    "from keras.layers import merge, Input\n",
    "from keras.models import Model\n"
   ]
  },
  {
   "cell_type": "markdown",
   "metadata": {
    "colab_type": "text",
    "id": "9W4ufCeyDlui"
   },
   "source": [
    "# Step 3: Read images"
   ]
  },
  {
   "cell_type": "code",
   "execution_count": 0,
   "metadata": {
    "colab": {},
    "colab_type": "code",
    "id": "aPbF9XngPPaJ",
    "scrolled": false
   },
   "outputs": [],
   "source": [
    "#Setting data path\n",
    "#Read the file names in the folder directory\n",
    "### START CODE HERE ###  (≈ 2 lines)\n",
    "data_path = PATH + '/AOIdata_100'\n",
    "data_dir_list = os.listdir(data_path)\n",
    "### END CODE HERE ###\n",
    "\n",
    "#設定一個list\n",
    "img_data_list=[]\n",
    "\n",
    "#Read images under the folders with loops \n",
    "### START CODE HERE ###  (≈ 5 lines)\n",
    "for dataset in data_dir_list:\n",
    "  img_list=os.listdir(data_path+'/'+dataset)\n",
    "  print ('Loaded the images of dataset-'+dataset)\n",
    "  for img in img_list:\n",
    "    img_path = data_path + '/' + dataset + '/' + img\n",
    "### END CODE HERE ###\n",
    "    \n",
    "    #Read the image \n",
    "    #Convert the image to array \n",
    "    #Add the dimension to the front of the array \n",
    "    #Preprocess_input\n",
    "    #Save the array to the list\n",
    "    ### START CODE HERE ###  (≈ 5 lines)\n",
    "    img = image.load_img(img_path)\n",
    "    x=image.img_to_array(img)\n",
    "    x = np.expand_dims(x, axis=0)\n",
    "    x = preprocess_input(x)\n",
    "    img_data_list.append(x)\n",
    "    ### END CODE HERE ###\n",
    "\n",
    "img_data = np.array(img_data_list)\n",
    "\n",
    "print (img_data.shape)  #(600, 1, 224, 224, 3)\n",
    "img_data=np.rollaxis(img_data,1,0)\n",
    "print (img_data.shape)  #(1, 600, 224, 224, 3)\n",
    "img_data=img_data[0]\n",
    "print (img_data.shape)  #(600, 224, 224, 3)"
   ]
  },
  {
   "attachments": {},
   "cell_type": "markdown",
   "metadata": {},
   "source": [
    "# Step 4: Labeling the images"
   ]
  },
  {
   "cell_type": "code",
   "execution_count": 0,
   "metadata": {
    "colab": {},
    "colab_type": "code",
    "id": "pG2D4U7_PPaN"
   },
   "outputs": [],
   "source": [
    "# Labeling the images\n",
    "### START CODE HERE ###  (≈ 3 lines)\n",
    "num_classes = 6\n",
    "num_of_samples = img_data.shape[0]\n",
    "labels = np.ones((num_of_samples,),dtype='int64')\n",
    "### END CODE HERE ###\n",
    "\n",
    "labels[0:100]=0\n",
    "labels[100:200]=1\n",
    "labels[200:300]=2\n",
    "labels[300:400]=3\n",
    "labels[400:500]=4\n",
    "labels[500:600]=5\n",
    "\n",
    "# one-hot encoding\n",
    "###  CODE HERE ###  (≈ 1 lines)\n",
    "Y = np_utils.to_categorical(labels, num_classes)\n",
    "\n",
    "#Shuffling dataset\n",
    "###  CODE HERE ###  (≈ 1 lines)\n",
    "x,y = shuffle(img_data,Y, random_state=2)\n",
    "\n",
    "# Split images into training set and test set\n",
    "###  CODE HERE ###  (≈ 1 lines)\n",
    "X_train, X_test, y_train, y_test = train_test_split(x,y,test_size=0.2, random_state=2)\n"
   ]
  },
  {
   "cell_type": "markdown",
   "metadata": {},
   "source": [
    "# Step5: Customize VGG16 model"
   ]
  },
  {
   "cell_type": "code",
   "execution_count": 0,
   "metadata": {
    "colab": {},
    "colab_type": "code",
    "id": "bRH-lm84PPaP",
    "scrolled": false
   },
   "outputs": [],
   "source": [
    "#input shape\n",
    "###  CODE HERE ###  (≈ 1 lines)\n",
    "image_input = Input(shape=(224, 224, 3))\n",
    "\n",
    "#Use the VGG16 model \n",
    "###  CODE HERE ###  (≈ 1 lines)\n",
    "model = VGG16(input_tensor=image_input, include_top=True,weights='imagenet')\n",
    "\n",
    "#Summary of the customize VGG16 model\n",
    "###  CODE HERE ###  (≈ 1 lines)\n",
    "model.summary()\n",
    "\n",
    "\n",
    "last_layer = model.get_layer('fc2').output\n",
    "out = Dense(num_classes, activation='softmax', name='output')(last_layer)\n",
    "custom_vgg_model = Model(image_input, out)\n",
    "custom_vgg_model.summary()\n",
    "\n",
    "for layer in custom_vgg_model.layers[:-1]:\n",
    "\tlayer.trainable = False\n",
    "\n",
    "#Set the model's loss function, optimizer, and metrics\n",
    "###  CODE HERE ###  (≈ 1 lines)\n",
    "custom_vgg_model.compile(loss='categorical_crossentropy',optimizer='rmsprop',metrics=['accuracy'])\n",
    "\n",
    "t=time.time()\n",
    "#The parameters for the training model\n",
    "###  CODE HERE ###  (≈ 1 lines)\n",
    "hist = custom_vgg_model.fit(X_train, y_train, batch_size=32, epochs=10, verbose=1, validation_data=(X_test, y_test))\n",
    "\n",
    "print('Training time: %s' % time.time())\n",
    "\n",
    "#Assess the accuracy of the trained model to the test data\n",
    "###  CODE HERE ###  (≈ 1 lines)\n",
    "(loss, accuracy) = custom_vgg_model.evaluate(X_test, y_test, batch_size=10, verbose=1)\n",
    "\n",
    "\n",
    "print(\"[INFO] loss={:.4f}, accuracy: {:.4f}%\".format(loss,accuracy * 100))\n",
    "\n",
    "#Preditction of the test dataset\n",
    "#Print out the predicted Label value\n",
    "### START CODE HERE ###  (≈ 5 lines)\n",
    "prediction = custom_vgg_model.predict(X_test)\n",
    "predict = np.argmax(prediction,axis=1)\n",
    "ans =np.argmax(y_test,axis=1)\n",
    "print(predict)\n",
    "print(ans)\n",
    "### END CODE HERE ###\n",
    "\n"
   ]
  },
  {
   "cell_type": "markdown",
   "metadata": {
    "colab_type": "text",
    "id": "Tw3HIqSKHe1x"
   },
   "source": [
    "# Step 6: Output loss and accuracy figures"
   ]
  },
  {
   "cell_type": "code",
   "execution_count": 0,
   "metadata": {
    "colab": {},
    "colab_type": "code",
    "id": "F2uzapglPPaS"
   },
   "outputs": [],
   "source": [
    "Read 60 images in AOIdata_test and use trained models for prediction#%%\n",
    "# %matplotlib notebook\n",
    "import matplotlib.pyplot as plt\n",
    "# visualizing losses and accuracy\n",
    "train_loss=hist.history['loss']\n",
    "val_loss=hist.history['val_loss']\n",
    "train_acc=hist.history['acc']\n",
    "val_acc=hist.history['val_acc']\n",
    "xc=range(10)\n",
    "\n",
    "plt.figure(1,figsize=(7,5))\n",
    "plt.plot(xc,train_loss)\n",
    "plt.plot(xc,val_loss)\n",
    "plt.xlabel('num of Epochs')\n",
    "plt.ylabel('loss')\n",
    "plt.title('train_loss vs val_loss')\n",
    "plt.grid(True)\n",
    "plt.legend(['train','val'])\n",
    "#print plt.style.available # use bmh, classic,ggplot for big pictures\n",
    "plt.style.use(['classic'])\n",
    "\n",
    "plt.figure(2,figsize=(7,5))\n",
    "plt.plot(xc,train_acc)\n",
    "plt.plot(xc,val_acc)\n",
    "plt.xlabel('num of Epochs')\n",
    "plt.ylabel('accuracy')\n",
    "plt.title('train_acc vs val_acc')\n",
    "plt.grid(True)\n",
    "plt.legend(['train','val'],loc=4)\n",
    "#print plt.style.available # use bmh, classic,ggplot for big pictures\n",
    "plt.style.use(['classic'])\n",
    "plt.show()\n"
   ]
  },
  {
   "cell_type": "markdown",
   "metadata": {
    "colab_type": "text",
    "id": "thyNqL64GVTk"
   },
   "source": [
    "# Exercise: \n",
    "Read 60 images in AOIdata_test and use trained models for prediction"
   ]
  },
  {
   "cell_type": "code",
   "execution_count": 0,
   "metadata": {
    "colab": {},
    "colab_type": "code",
    "id": "GgFbliJBGp6i"
   },
   "outputs": [],
   "source": []
  }
 ],
 "metadata": {
  "accelerator": "GPU",
  "colab": {
   "collapsed_sections": [],
   "name": "aoi-summer-begin.ipynb",
   "provenance": [],
   "version": "0.3.2"
  },
  "kernelspec": {
   "display_name": "Python 3",
   "language": "python",
   "name": "python3"
  },
  "language_info": {
   "codemirror_mode": {
    "name": "ipython",
    "version": 3
   },
   "file_extension": ".py",
   "mimetype": "text/x-python",
   "name": "python",
   "nbconvert_exporter": "python",
   "pygments_lexer": "ipython3",
   "version": "3.7.1"
  }
 },
 "nbformat": 4,
 "nbformat_minor": 1
}
